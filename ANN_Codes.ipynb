{
 "cells": [
  {
   "cell_type": "code",
   "execution_count": null,
   "id": "c7c4625e",
   "metadata": {},
   "outputs": [],
   "source": [
    "#install all the dependencies\n",
    "import os\n",
    "import pandas as pd\n",
    "import numpy as np\n",
    "\n",
    "import tensorflow as tf\n",
    "from tensorflow.keras.utils import plot_model\n",
    "from tensorflow.keras.callbacks import EarlyStopping\n",
    "\n",
    "from sklearn.preprocessing import StandardScaler\n",
    "from sklearn.model_selection import train_test_split\n",
    "from tensorflow.keras.layers import Dropout\n",
    "\n",
    "import seaborn as sns\n",
    "import matplotlib.pyplot as plt"
   ]
  },
  {
   "cell_type": "code",
   "execution_count": null,
   "id": "10037db5",
   "metadata": {},
   "outputs": [],
   "source": [
    "df=pd.read_csv(\"/content/file.csv\")\n",
    "df"
   ]
  },
  {
   "cell_type": "code",
   "execution_count": null,
   "id": "8e480702",
   "metadata": {},
   "outputs": [],
   "source": [
    "df.shape\n",
    "df.columns\n",
    "df[\"Outcome\"].value_counts()\n",
    "sns.countplot(x=\"Outcome\",data=df)"
   ]
  },
  {
   "cell_type": "code",
   "execution_count": null,
   "id": "c5cd5ccd",
   "metadata": {},
   "outputs": [],
   "source": [
    "#use for autoanalysis\n",
    "!pip install sweetviz"
   ]
  },
  {
   "cell_type": "code",
   "execution_count": null,
   "id": "10a8d293",
   "metadata": {},
   "outputs": [],
   "source": [
    "import sweetviz as sv\n",
    "report=sv.analyze(df)\n",
    "report.show_html(\"eda_report_15.html\")"
   ]
  },
  {
   "cell_type": "code",
   "execution_count": null,
   "id": "44cff744",
   "metadata": {},
   "outputs": [],
   "source": [
    "#divide x and y\n",
    "x=df.drop(columns=[\"Outcome\"],axis=1)\n",
    "y=df[\"Outcome\"]"
   ]
  },
  {
   "cell_type": "code",
   "execution_count": null,
   "id": "dbc5468c",
   "metadata": {},
   "outputs": [],
   "source": [
    "#train test split\n",
    "x_train,x_test,y_train,y_test=train_test_split(x,y,train_size=0.8,random_state=42)"
   ]
  },
  {
   "cell_type": "code",
   "execution_count": null,
   "id": "d0ac472d",
   "metadata": {},
   "outputs": [],
   "source": [
    "#whenever we are working on ML or DL we need to scale the data\n",
    "#in case of DL scaling is required we should do always scaling.\n",
    "scaler=StandardScaler()\n",
    "x_train_scaled=pd.DataFrame(scaler.fit_transform(x_train),columns=x_train.columns)\n",
    "x_test_scaled=pd.DataFrame(scaler.transform(x_test),columns=x_test.columns)"
   ]
  },
  {
   "cell_type": "code",
   "execution_count": null,
   "id": "0fac0fb1",
   "metadata": {},
   "outputs": [],
   "source": [
    "#building the model\n",
    "model=tf.keras.Sequential(name=\"Main_container\")\n",
    "#sequntial=linearly stats layer\n",
    "#in DL two types of models were build 1st sequntial and 2nd functional\n",
    "#functional are complex model(multiple output and multiple input)\n",
    "#name= we can give any name\n",
    "model.add(tf.keras.layers.Input(shape=[8],name=\"input_layer\"))\n",
    "#shape means how much input columns ( 8 layers)\n",
    "#there are no calculations in input layers\n",
    "model.add(tf.keras.layers.Dense(units=9,activation=\"elu\",kernel_initializer=\"he_normal\",name=\"hidden_layer_1\"))\n",
    "#Dense input means here processing of inputs happens\n",
    "#units means number of neurons(randomly)\n",
    "#activation means activation function\n",
    "#kernel_initializer=weights associated hotat tyasathi char techniques astat like he normal, he_uniform, glorot_normal, glorot_uniform\n",
    "model.add(tf.keras.layers.Dense(units=8,activation=\"elu\",kernel_initializer=\"he_normal\",name=\"hidden_layer_2\"))\n",
    "model.add(tf.keras.layers.Dense(units=5,activation=\"elu\",kernel_initializer=\"he_normal\",name=\"hidden_layer_3\"))\n",
    "#output\n",
    "model.add(tf.keras.layers.Dense(units=1,activation=\"sigmoid\",kernel_initializer=\"he_normal\",name=\"output_layer\"))\n",
    "#model architecture complete"
   ]
  },
  {
   "cell_type": "code",
   "execution_count": null,
   "id": "e15eedf6",
   "metadata": {},
   "outputs": [],
   "source": [
    "model.summary()\n",
    "#params means total weights and biases like 9*8=72+81\n",
    "#or 8*8=70+8=80"
   ]
  },
  {
   "cell_type": "code",
   "execution_count": null,
   "id": "b544a9c6",
   "metadata": {},
   "outputs": [],
   "source": [
    "model.layers[0].get_weights()\n",
    "#here we get idea "
   ]
  },
  {
   "cell_type": "code",
   "execution_count": null,
   "id": "b4f73a89",
   "metadata": {},
   "outputs": [],
   "source": [
    "plot_model(\n",
    "    model,\n",
    "    show_shapes=True,\n",
    "    show_layer_names=True,\n",
    "    show_layer_activations=True\n",
    ")\n",
    "#here it shows architecture"
   ]
  },
  {
   "cell_type": "code",
   "execution_count": null,
   "id": "d0c0b9a4",
   "metadata": {},
   "outputs": [],
   "source": [
    "model.compile(\n",
    "    optimizer=\"adam\",\n",
    "    loss=\"binary_crossentropy\",\n",
    "    metrics=[\"accuracy\"]\n",
    ")"
   ]
  },
  {
   "cell_type": "code",
   "execution_count": null,
   "id": "c9171021",
   "metadata": {},
   "outputs": [],
   "source": [
    "!pip install keras\n",
    "!pip install ann_visualizer\n",
    "!pip install graphviz"
   ]
  },
  {
   "cell_type": "code",
   "execution_count": null,
   "id": "75355cb2",
   "metadata": {},
   "outputs": [],
   "source": [
    "from ann_visualizer.visualize import ann_viz\n",
    "\n",
    "ann_viz(model"
   ]
  },
  {
   "cell_type": "code",
   "execution_count": null,
   "id": "dc3e2e48",
   "metadata": {},
   "outputs": [],
   "source": [
    "history=model.fit(\n",
    "    x_train_scaled,\n",
    "    y_train,\n",
    "    verbose=True,\n",
    "    batch_size=16,\n",
    "    validation_split=0.2,\n",
    "    epochs=50,\n",
    "    workers=10,\n",
    "    use_multiprocessing=True\n",
    ")\n",
    "#verbose=model je pn backend la work krnr te sangt rahnar\n",
    "#batch_size=depend on dataset size\n",
    "#validation_split=\n",
    "#workers=thread kiti asavet\n",
    "#use_multiprocessing=its impactful when we have bigger dataset"
   ]
  },
  {
   "cell_type": "code",
   "execution_count": null,
   "id": "3f40358b",
   "metadata": {},
   "outputs": [],
   "source": [
    "history.history\n",
    "#same data in dict form, whenever we want to plt data its use"
   ]
  },
  {
   "cell_type": "code",
   "execution_count": null,
   "id": "c21e3bad",
   "metadata": {},
   "outputs": [],
   "source": [
    "def plotting(history, keyword):\n",
    "  plt.plot(history.history[keyword])\n",
    "  plt.plot(history.history[\"val_\" + keyword])\n",
    "\n",
    "  plt.title(\"model\" + keyword)\n",
    "  plt.ylabel(keyword)\n",
    "  plt.xlabel('epoch')\n",
    "\n",
    "  plt.legend([\"training data\",\"validation data\"])\n",
    "\n",
    "#ek accuracy training chi an ek validation chi soo used val_"
   ]
  },
  {
   "cell_type": "code",
   "execution_count": null,
   "id": "5567e8d5",
   "metadata": {},
   "outputs": [],
   "source": [
    "plotting(history,\"accuracy\")"
   ]
  },
  {
   "cell_type": "code",
   "execution_count": null,
   "id": "73d762a7",
   "metadata": {},
   "outputs": [],
   "source": [
    "plotting(history,\"loss\")\n",
    "#plotting loss graph"
   ]
  },
  {
   "cell_type": "code",
   "execution_count": null,
   "id": "14f118a8",
   "metadata": {},
   "outputs": [],
   "source": [
    "y_logs=model.predict(x_test_scaled)\n",
    "y_pred=np.where(y_logs>0.5,1,0)\n",
    "#means o.5 peksha jast asel tr 1 nahitr 0\n",
    "y_pred[:3]\n",
    "#means mala starting che 3 show kra\n",
    "y_logs"
   ]
  },
  {
   "cell_type": "code",
   "execution_count": null,
   "id": "bb555a96",
   "metadata": {},
   "outputs": [],
   "source": [
    "from sklearn.metrics import accuracy_score\n",
    "acc=accuracy_score(y_test,y_pred)\n",
    "acc"
   ]
  },
  {
   "cell_type": "code",
   "execution_count": null,
   "id": "23465efb",
   "metadata": {},
   "outputs": [],
   "source": [
    "#callbacks = tasks la automate krt mhnje 80% accuracy bhetlyavr stop kra"
   ]
  },
  {
   "cell_type": "code",
   "execution_count": null,
   "id": "665654ee",
   "metadata": {},
   "outputs": [],
   "source": [
    "class Conditionalcallback(tf.keras.callbacks.Callback):\n",
    "    def end_epoch(self,epoch,logs={}):\n",
    "        if (logs.get(\"accuracy\")>=0.85 and logs.get(\"val_accuracy\")>=0.85):\n",
    "            self.model.stop_training=True\n",
    "            #here we create call back to stop the model"
   ]
  },
  {
   "cell_type": "code",
   "execution_count": null,
   "id": "5ad8bcd1",
   "metadata": {},
   "outputs": [],
   "source": [
    "conditional_callback=Conditionalcallback"
   ]
  },
  {
   "cell_type": "code",
   "execution_count": null,
   "id": "7497620b",
   "metadata": {},
   "outputs": [],
   "source": [
    "early_stopper=EarlyStopping(\n",
    "    monitor=\"val_accuracy\",\n",
    "    min_delta=0.02,\n",
    "    patience=16,\n",
    "    mode=\"max\",\n",
    "    restore_best_weights=True\n",
    ")\n",
    "\n",
    "#min delta is 0.02 jr 2 percent peksha jast lvkr move hot nahi then stop\n",
    "#te sangnar kon tr patience= 16 epoch prynt 2% peksha jast kami nahi zal tri stop\n",
    "#restore best weights= kdhi as hou shkt last la chngla wt nsel so hyane adhicha changla result ghete"
   ]
  },
  {
   "cell_type": "code",
   "execution_count": null,
   "id": "7e976dbb",
   "metadata": {},
   "outputs": [],
   "source": [
    "input_data=(6,148,72,35,0,33.6,0.627,50)\n",
    "input_data=np.asarray(input_data)\n",
    "input_data_reshape=input_data.reshape(1,-1)\n",
    "x_test_scaling=scaler.transform(input_data_reshape)\n",
    "prediction=model.predict(x_test_scaling)\n",
    "prediction\n",
    "y_pred=np.where(prediction>0.5,1,0)\n",
    "if y_pred[0][0]==1:\n",
    "    print(\"person is suffering from diabetes\".upper())\n",
    "else:\n",
    "    print(\"person is not suffering from diabetes\".upper())\n",
    "\n",
    "#here we predict the values"
   ]
  },
  {
   "cell_type": "code",
   "execution_count": null,
   "id": "1230e855",
   "metadata": {},
   "outputs": [],
   "source": [
    "import pickle\n",
    "filename=\"trained_model.sav\"\n",
    "pickle.dump(model,open(filename,\"wb\"))\n",
    "\n",
    "filename_sc=\"scaler.pkl\"\n",
    "pickle.dump(scaler,open(filename_sc,\"wb\"))\n",
    "\n",
    "#create pickle file"
   ]
  },
  {
   "cell_type": "code",
   "execution_count": null,
   "id": "08412a07",
   "metadata": {},
   "outputs": [],
   "source": [
    "loaded_model=pickle.load(open(\"trained_model.sav\",\"rb\"))\n",
    "\n",
    "loaded_scaler=pickle.load(open(\"scaler.pkl\",\"rb\"))\n",
    "#create model which can predict"
   ]
  },
  {
   "cell_type": "code",
   "execution_count": null,
   "id": "816c5794",
   "metadata": {},
   "outputs": [],
   "source": [
    "input_data=(1,85,66,29,0,26.6,0.351,31)\n",
    "input_data=np.asarray(input_data)\n",
    "input_data_reshape=input_data.reshape(1,-1)\n",
    "x_test_scaling=loaded_scaler.transform(input_data_reshape)\n",
    "prediction=loaded_model.predict(x_test_scaling)\n",
    "prediction\n",
    "y_pred=np.where(prediction>0.5,1,0)\n",
    "if y_pred[0][0]==1:\n",
    "  print(\"person is suffering from diabetes\".upper())\n",
    "else:\n",
    "  print(\"person is not suffering from diabetes\".upper())\n",
    "#predict with only loaded model\n",
    "#means adhichi file delete zali tri run honar"
   ]
  },
  {
   "cell_type": "code",
   "execution_count": null,
   "id": "8dbb377d",
   "metadata": {},
   "outputs": [],
   "source": [
    "!pip install -q streamlit\n",
    "#ek chota prediction website bnvun denar"
   ]
  },
  {
   "cell_type": "code",
   "execution_count": null,
   "id": "d019a950",
   "metadata": {},
   "outputs": [],
   "source": [
    "%%writefile app.py\n",
    "\n",
    "\n",
    "import numpy as np\n",
    "import pandas as pd\n",
    "import streamlit as st\n",
    "import pickle\n",
    "\n",
    "loaded_model=pickle.load(open(\"/content/trained_model.sav\",\"rb\"))\n",
    "\n",
    "loaded_scaler=pickle.load(open(\"/content/scaler.pkl\",\"rb\"))\n",
    "\n",
    "def daibetes_prediction(input_data):\n",
    "  input_data=np.asarray(input_data)\n",
    "  input_data_reshape=input_data.reshape(1,-1)\n",
    "  x_test_scaling=loaded_scaler.transform(input_data_reshape)\n",
    "  prediction=loaded_model.predict(x_test_scaling)\n",
    "  y_pred=np.where(prediction>0.5,1,0)\n",
    "  if y_pred[0][0]==1:\n",
    "    print(\"person is suffering from diabetes\".upper())\n",
    "  else:\n",
    "    print(\"person is not suffering from diabetes\".upper())\n",
    "\n",
    "def main():\n",
    "  st.title(\"Diabetes Prediction Web Application\")\n",
    "  Pregnancies = st.text_input(\"Pregnancies\")\n",
    "  Glucose=st.text_input(\"Glucose\")\n",
    "  BloodPressure=st.text_input(\"BloodPressure\")\n",
    "  SkinThickness=st.text_input(\"SkinThickness\")\n",
    "  Insulin=st.text_input(\"Insulin\")\n",
    "  BMI=st.text_input(\"BMI\")\n",
    "  DiabetesPedigreeFunction=st.text_input(\"DiabetesPedigreeFunction\")\n",
    "  Age=st.text_input(\"Age\")\n",
    "\n",
    "  diagnosis=\"\"\n",
    "  if st.button(Di8abetes Text Result):\n",
    "    diagnosis = daibetes_prediction([Pregnancies,Glucose,BloodPressure,SkinThickness,Insulin,BMI,DiabetesPedigreeFunction,Age])\n",
    "  st.success(diagnosis)\n",
    "\n",
    "if __name__==\"__main__\":\n",
    "  main()\n",
    "\n",
    "#create page"
   ]
  },
  {
   "cell_type": "code",
   "execution_count": null,
   "id": "7607bac3",
   "metadata": {},
   "outputs": [],
   "source": [
    "\",\".join(df.columns[:-1])"
   ]
  },
  {
   "cell_type": "code",
   "execution_count": null,
   "id": "b84d0eef",
   "metadata": {},
   "outputs": [],
   "source": [
    "!pip install pyngrok\n",
    "pip install protobuf==3.20.*\n",
    "\n",
    "#docker run -it python:3.10 /bin/bash\n",
    "#within the Docker container:\n",
    "!pip install google-cloud-logging==3.1.1 protobuf==4.21.0\n",
    "!python3 -c \"import google.cloud.logging\"\n",
    "\n",
    "!export PROTOCOL_BUFFERS_PYTHON_IMPLEMENTATION=python\n",
    "\n",
    "pip install --upgrade \"protobuf<=3.20.1\"\n",
    "\n",
    "!pip install \"protobuf<=3.20.1\" --force-reinstall\n",
    "\n",
    "!streamlit run app.py & npx localtunnel --port 8501"
   ]
  },
  {
   "cell_type": "code",
   "execution_count": null,
   "id": "07f12589",
   "metadata": {},
   "outputs": [],
   "source": []
  },
  {
   "cell_type": "code",
   "execution_count": null,
   "id": "c149d78c",
   "metadata": {},
   "outputs": [],
   "source": []
  },
  {
   "cell_type": "code",
   "execution_count": null,
   "id": "6b28c871",
   "metadata": {},
   "outputs": [],
   "source": []
  }
 ],
 "metadata": {
  "kernelspec": {
   "display_name": "Python 3 (ipykernel)",
   "language": "python",
   "name": "python3"
  },
  "language_info": {
   "codemirror_mode": {
    "name": "ipython",
    "version": 3
   },
   "file_extension": ".py",
   "mimetype": "text/x-python",
   "name": "python",
   "nbconvert_exporter": "python",
   "pygments_lexer": "ipython3",
   "version": "3.9.12"
  }
 },
 "nbformat": 4,
 "nbformat_minor": 5
}
